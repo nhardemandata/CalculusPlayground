{
 "cells": [
  {
   "cell_type": "markdown",
   "id": "0ff4a8a4-4474-4fa0-928b-4e08de038812",
   "metadata": {},
   "source": [
    "# **Implicit Differentiation**\n",
    "\n",
    "*How to do implicit differentiation*:\n",
    ">* Differentiate with respect to $x$.\n",
    ">* Collect all the $ \\mathbf{ \\dfrac{\\mathrm{\\mathbf{d}}y}{\\mathrm{\\mathbf{d}}x}}$ to one side\n",
    ">* Solve for $ \\mathbf{ \\dfrac{\\mathrm{\\mathbf{d}}y}{\\mathrm{\\mathbf{d}}x}}$ "
   ]
  },
  {
   "cell_type": "markdown",
   "id": "5949c819-4e43-42ae-ba53-a3ca7dceac65",
   "metadata": {},
   "source": [
    "*Find the two implicitly defined functions of* $x^2 + y^2 = 25$ *and find the equations of the tangent lines at* $(0,5)$ *and* $(-3,-4)$  \n",
    "\n",
    "**Define the equations**:\n",
    "\n",
    "> solve for y"
   ]
  },
  {
   "cell_type": "markdown",
   "id": "2fd65566-99ed-4e42-a9ae-6248dd7dd9d6",
   "metadata": {},
   "source": [
    "$$\\mathrm{y^2} = \\mathrm{25 - x^2}$$ "
   ]
  },
  {
   "cell_type": "markdown",
   "id": "10350e61-6ce2-4bc2-bb3c-e3980dd716df",
   "metadata": {},
   "source": [
    "$$\\mathrm{y} = \\mathrm{\\sqrt{25 - x^2}}$$ "
   ]
  },
  {
   "cell_type": "markdown",
   "id": "ac081b25-fb4b-44c6-b9db-a04e80daf04f",
   "metadata": {},
   "source": [
    "$$\\mathrm{y} = \\mathrm{\\pm{\\sqrt{25 - x^2}}}$$ "
   ]
  },
  {
   "cell_type": "markdown",
   "id": "264350c2-a9f4-4884-8086-540d91ce2e9a",
   "metadata": {},
   "source": [
    "**First(positive) function**: $(0,5)$ "
   ]
  },
  {
   "cell_type": "markdown",
   "id": "db54f8bf-fcc0-47a8-ac4d-96d41f331db7",
   "metadata": {},
   "source": [
    "$$\\mathrm{y} = \\mathrm{\\sqrt{25 - x^2}}$$ "
   ]
  },
  {
   "cell_type": "markdown",
   "id": "03073131-b6d5-4818-a077-ac5f638a3081",
   "metadata": {},
   "source": [
    "> Equation of the tangent line (differentiate)"
   ]
  },
  {
   "cell_type": "markdown",
   "id": "2ee098ab-2631-4baa-acb4-8f946a811e37",
   "metadata": {},
   "source": [
    "$$ \\dfrac{\\mathrm{d}y}{\\mathrm{d}x} = \\dfrac{\\mathrm{1}}{\\mathrm{2}} \\cdot (25 - x^2)^{-1/2} \\cdot (-2x) $$ "
   ]
  },
  {
   "cell_type": "markdown",
   "id": "2ab13a24-88a9-43d4-b30a-cb114dbfc4f7",
   "metadata": {},
   "source": [
    "$$ = \\dfrac{\\mathrm{-x}}{\\mathrm{\\sqrt{25 - x^2}}} $$"
   ]
  },
  {
   "cell_type": "markdown",
   "id": "52502167-71ba-4bc5-9a8d-14ec7085b5d5",
   "metadata": {},
   "source": [
    "$$ \\dfrac{\\mathrm{d}y}{\\mathrm{d}x}\\bigg|_{(0,5)} = \\dfrac{\\mathrm{-0}}{\\mathrm{\\sqrt{25 - 0^2}}} = 0$$ "
   ]
  },
  {
   "cell_type": "markdown",
   "id": "8d01e60c-b672-4b06-aad6-be4c120e93f4",
   "metadata": {},
   "source": [
    "**Slope** of the tanget line of the function $\\mathrm{y} = \\mathrm{\\sqrt{25 - x^2}}$ evalutaed at the point $\\mathrm{x} = 0$ is: $0$  "
   ]
  },
  {
   "cell_type": "markdown",
   "id": "31fd18b9-159f-416f-bfda-991e8df5fb31",
   "metadata": {},
   "source": [
    "*Point-slope Formula*:"
   ]
  },
  {
   "cell_type": "markdown",
   "id": "97eac176-79c6-4187-88d2-c18ded6867b9",
   "metadata": {},
   "source": [
    "$$ \\mathrm{y - y_1} = \\mathrm{m \\cdot (x - x_1)} $$ "
   ]
  },
  {
   "cell_type": "markdown",
   "id": "1c1dfe27-5ada-475e-93bb-9d1f595e8f18",
   "metadata": {},
   "source": [
    "**Equation of the tangent line** at $(0,5)$ with a slope of $0$ "
   ]
  },
  {
   "cell_type": "markdown",
   "id": "79767ad6-0b4a-4b2e-9e8a-2812d95ea4cf",
   "metadata": {},
   "source": [
    "$$ \\mathrm{y - 5} = \\mathrm{0 \\cdot (x - 0)} $$\n",
    "\n",
    "<center> <span style='background :yellow' > $ \\mathrm{y = 5} $ </span> </center>\n",
    "\n",
    "---"
   ]
  },
  {
   "cell_type": "markdown",
   "id": "b3112389-dd7f-442f-925d-fe13bb8adbcd",
   "metadata": {},
   "source": [
    "**Second(negative) function**: $(-3,-4)$ "
   ]
  },
  {
   "cell_type": "markdown",
   "id": "ab77a409-4076-4046-9da8-0837693c8cc5",
   "metadata": {},
   "source": [
    "$$\\mathrm{y} = \\mathrm{- \\sqrt{25 - x^2}}$$ "
   ]
  },
  {
   "cell_type": "markdown",
   "id": "e7d99516-207a-4b2d-abb5-e2a3f36e9d7c",
   "metadata": {},
   "source": [
    "> Equation of the tangent line (differentiate)"
   ]
  },
  {
   "cell_type": "markdown",
   "id": "f3d82b6c-d09d-4b1d-96b5-f1bae07919a1",
   "metadata": {},
   "source": [
    "$$ \\dfrac{\\mathrm{d}y}{\\mathrm{d}x} = \\dfrac{\\mathrm{-1}}{\\mathrm{2}} \\cdot (25 - x^2)^{-1/2} \\cdot (-2x) $$ "
   ]
  },
  {
   "cell_type": "markdown",
   "id": "d800d07a-f4a8-496a-ad49-e262c8f67cfb",
   "metadata": {},
   "source": [
    "$$ = \\dfrac{\\mathrm{x}}{\\mathrm{\\sqrt{25 - x^2}}} $$"
   ]
  },
  {
   "cell_type": "markdown",
   "id": "2f6a7ad5-f6e6-4682-84bb-69cda56bd281",
   "metadata": {},
   "source": [
    "$$ \\dfrac{\\mathrm{d}y}{\\mathrm{d}x}\\bigg|_{(-3,-4)} = \\dfrac{\\mathrm{-3}}{\\mathrm{\\sqrt{25 - (-3)^2}}} = \\dfrac{\\mathrm{-3}}{\\mathrm{4}} = m $$"
   ]
  },
  {
   "cell_type": "markdown",
   "id": "132ae746-0c4f-49d8-a27d-c824ed186d41",
   "metadata": {},
   "source": [
    "*Point-slope Form*:"
   ]
  },
  {
   "cell_type": "markdown",
   "id": "b89f3f64-dc9b-4e91-9687-33735c4b1215",
   "metadata": {},
   "source": [
    "$$ \\mathrm{y - (-4)} = \\mathrm{\\dfrac{\\mathrm{-3}}{\\mathrm{4}} \\cdot (x - (-3))} $$ "
   ]
  },
  {
   "cell_type": "markdown",
   "id": "78714c0b-7774-4521-aa1b-7fff81b755c1",
   "metadata": {},
   "source": [
    "$$ \\mathrm{y} = \\dfrac{\\mathrm{-3}}{\\mathrm{4}}\\mathrm{x} - \\dfrac{\\mathrm{9}}{\\mathrm{4}} - 4 $$ "
   ]
  },
  {
   "cell_type": "markdown",
   "id": "3b2c4c1c-1f6f-4f43-93bb-50e60f863a13",
   "metadata": {},
   "source": [
    "<center> <span style='background :yellow' > $ \\mathrm{y} = \\dfrac{\\mathrm{-3}}{\\mathrm{4}}\\mathrm{x} - \\dfrac{\\mathrm{25}}{\\mathrm{4}} $ </span> </center> \n",
    "\n",
    "---"
   ]
  },
  {
   "cell_type": "markdown",
   "id": "783cffc2-0900-4a8a-9574-47427ebf1f79",
   "metadata": {},
   "source": [
    "## **Implicit Differentiation** \n",
    "\n",
    "$$ \\dfrac{\\mathrm{d}}{\\mathrm{d}x}\\mathrm{[y]} = \\dfrac{\\mathrm{d}y}{\\mathrm{d}x} $$\n",
    "\n",
    "---"
   ]
  },
  {
   "cell_type": "markdown",
   "id": "07ef6546-3d5d-4147-87bb-16be7de082cb",
   "metadata": {},
   "source": [
    "#### Given $ \\mathrm{y = 2x + 5}$ , find the derivatives of each using both *explicit* and *implicit* differentiation. "
   ]
  },
  {
   "cell_type": "markdown",
   "id": "4609c583-d3ed-4678-84da-3a068840974c",
   "metadata": {},
   "source": [
    "**a**. $$ \\mathrm{2x + 5} $$"
   ]
  },
  {
   "cell_type": "markdown",
   "id": "3c6434da-a4bf-442f-bbf8-faab66d0d368",
   "metadata": {},
   "source": [
    "*Explicit*: $$ \\dfrac{\\mathrm{d}}{\\mathrm{d}x}\\mathrm{[2x + 5]} = 2 $$ "
   ]
  },
  {
   "cell_type": "markdown",
   "id": "c01b4900-fc13-4d51-a37a-3d67bd1bfe5c",
   "metadata": {},
   "source": [
    "**b**. $$ \\mathrm{y} $$"
   ]
  },
  {
   "cell_type": "markdown",
   "id": "e38026c1-3e07-45c6-abad-f20daaa90453",
   "metadata": {},
   "source": [
    "*Implicit*: $$ \\dfrac{\\mathrm{d}}{\\mathrm{d}x}\\mathrm{[y]} = \\dfrac{\\mathrm{d}y}{\\mathrm{d}x} = 2 $$ \n",
    "\n",
    "___"
   ]
  },
  {
   "cell_type": "markdown",
   "id": "c9a14a30-874f-432e-a0d8-7bba1e734b30",
   "metadata": {},
   "source": [
    "**c**. $$ \\mathrm{(2x + 5)}^2 $$ "
   ]
  },
  {
   "cell_type": "markdown",
   "id": "891e01fc-42bd-4872-968f-1c3aa634d2ec",
   "metadata": {},
   "source": [
    "*Explicit*: $$ \\dfrac{\\mathrm{d}}{\\mathrm{d}x}\\mathrm{[(2x + 5)^2]} = \\mathrm{2 \\cdot (2x + 5) \\cdot 2} = \\mathrm{8x + 20} $$ "
   ]
  },
  {
   "cell_type": "markdown",
   "id": "95d4f480-547c-4058-ba56-fdcf8869372c",
   "metadata": {},
   "source": [
    "**d**. $$ \\mathrm{y^2} $$ "
   ]
  },
  {
   "cell_type": "markdown",
   "id": "18c30440-d8f2-460a-b9c6-48d519cfbc0f",
   "metadata": {},
   "source": [
    "*Implicit*: $$ \\dfrac{\\mathrm{d}}{\\mathrm{d}x}\\mathrm{[y^2]} = \\mathrm{2y} \\cdot \\dfrac{\\mathrm{d}y}{\\mathrm{d}x} = 2 \\cdot (2x + 5) \\cdot 2 = \\mathrm{8x + 20} $$ \n",
    "\n",
    "___"
   ]
  },
  {
   "cell_type": "markdown",
   "id": "e0060e54-9795-442a-9d0e-50d09b51f9b6",
   "metadata": {},
   "source": [
    "**e.** $$ \\mathrm{(2x + 5)^3} $$ "
   ]
  },
  {
   "cell_type": "markdown",
   "id": "e1fdd5a0-73b5-49b9-8362-81b5d160debd",
   "metadata": {},
   "source": [
    "*Explicit*: $$ \\dfrac{\\mathrm{d}}{\\mathrm{d}x}\\mathrm{[(2x + 5)^3]} = \\mathrm{3 \\cdot (2x + 5)^2 \\cdot 2} = \\mathrm{6(2x + 5)^2} $$"
   ]
  },
  {
   "cell_type": "markdown",
   "id": "631effd0-370e-4cd0-a051-0b7cfc13e9da",
   "metadata": {},
   "source": [
    "**f**. $$ \\mathrm{y^3} $$ "
   ]
  },
  {
   "cell_type": "markdown",
   "id": "ed7f9247-790a-4ce3-a485-6662ac345a51",
   "metadata": {},
   "source": [
    "*Implicit*: $$ \\dfrac{\\mathrm{d}}{\\mathrm{d}x}\\mathrm{[y^3]} = \\mathrm{3y^2} \\cdot \\dfrac{\\mathrm{d}y}{\\mathrm{d}x} = 3 \\cdot \\mathrm{(2x + 5)^2} \\cdot 2 = \\mathrm{6(2x + 5)^2} $$\n",
    "\n",
    "___"
   ]
  },
  {
   "cell_type": "markdown",
   "id": "7c18f6a3-ed8c-4b67-9bec-9f68f4656664",
   "metadata": {},
   "source": [
    "**g**. $$ \\mathrm{2x + 5} + \\mathrm{(2x + 5)^3} + \\mathrm{x^3} = 7 $$"
   ]
  },
  {
   "cell_type": "markdown",
   "id": "0d0bc6ba-27c8-4daf-93d6-412cceaa10a6",
   "metadata": {},
   "source": [
    "*Explicit*: $$ \\dfrac{\\mathrm{d}}{\\mathrm{d}x}\\mathrm{[\\mathrm{2x + 5} + \\mathrm{(2x + 5)^3} + \\mathrm{x^3} = 7]} $$"
   ]
  },
  {
   "cell_type": "markdown",
   "id": "e02eb5d9-801f-42b4-8fe8-22e9e2be994f",
   "metadata": {},
   "source": [
    "$$ \\mathrm{2 + 6(2x + 5)^2 + 3x^2 = 0} $$"
   ]
  },
  {
   "cell_type": "markdown",
   "id": "ef6be3fb-d669-4b22-be55-8a27968e6967",
   "metadata": {},
   "source": [
    "**h**. $$ \\mathrm{y} + \\mathrm{y^3} + \\mathrm{x^3} = 7 $$ "
   ]
  },
  {
   "cell_type": "markdown",
   "id": "d238e7bb-3d5d-47b6-93a8-1ddf1dd4d803",
   "metadata": {},
   "source": [
    "$$ \\dfrac{\\mathrm{d}y}{\\mathrm{d}x} + \\mathrm{3y^2} \\cdot \\dfrac{\\mathrm{d}y}{\\mathrm{d}x} + \\mathrm{3x^2} = 0 $$ "
   ]
  },
  {
   "cell_type": "markdown",
   "id": "0d0c29f9-1f83-4e90-bdfa-0148c463952b",
   "metadata": {},
   "source": [
    "$$ \\mathrm{2 + 6(2x + 5)^2 + 3x^2 = 0} $$ \n",
    "\n",
    "___"
   ]
  },
  {
   "cell_type": "markdown",
   "id": "1b5fb18e-7720-4e4a-8df5-66aa933596e5",
   "metadata": {},
   "source": [
    "**i**. $$ \\mathrm{(2x + 5)x} + \\mathrm{x(2x + 5)^2} + 15 = \\mathrm{2x + 5} $$"
   ]
  },
  {
   "cell_type": "markdown",
   "id": "e183be11-3aaf-4e3c-88e0-931661240723",
   "metadata": {},
   "source": [
    "*Explicit*: $$ \\dfrac{\\mathrm{d}}{\\mathrm{d}x}\\mathrm{[\\mathrm{(2x + 5)x} + \\mathrm{x(2x + 5)^2} + 15 = \\mathrm{2x + 5}]} $$ "
   ]
  },
  {
   "cell_type": "markdown",
   "id": "fcfea382-b119-4bde-8263-1e9be4834527",
   "metadata": {},
   "source": [
    "$$ \\mathrm{2x} + \\mathrm{(2x + 5)(1)} + \\mathrm{(1)(2x + 5)^2} + \\mathrm{x \\cdot \\mathrm{2(2x + 5)(2)}} + 0 = 2 $$ "
   ]
  },
  {
   "cell_type": "markdown",
   "id": "8100ef5a-53c2-4d73-b0d3-01a9267744d7",
   "metadata": {},
   "source": [
    "**j**. $$ \\mathrm{yx} + \\mathrm{xy^2} + 15 = \\mathrm{y} $$ "
   ]
  },
  {
   "cell_type": "markdown",
   "id": "6024c05d-ccd8-4ebd-81a4-3fc4e1fa4d72",
   "metadata": {},
   "source": [
    "*Implicit*: $$ \\dfrac{\\mathrm{d}}{\\mathrm{d}x}\\mathrm{[\\mathrm{yx} + \\mathrm{xy^2} + 15 = \\mathrm{y}]} $$"
   ]
  },
  {
   "cell_type": "markdown",
   "id": "0633d24f-38ad-452b-ab57-832c6f553b09",
   "metadata": {},
   "source": [
    "$$ \\dfrac{\\mathrm{d}y}{\\mathrm{d}x}\\mathrm{x} + \\mathrm{y(1)} + \\mathrm{(1)y^2} + \\mathrm{x \\cdot 2y \\dfrac{\\mathrm{d}y}{\\mathrm{d}x}} + 0 = \\dfrac{\\mathrm{d}y}{\\mathrm{d}x} $$"
   ]
  },
  {
   "cell_type": "markdown",
   "id": "c9cf32e3-5760-4312-b91a-2c198f6b8efd",
   "metadata": {},
   "source": [
    "$$ \\mathrm{2x} + \\mathrm{(2x + 5)} + \\mathrm{(2x + 5)^2} + \\mathrm{x \\mathrm{2(2x + 5)(2)}} + 0 = 2 $$ \n",
    "\n",
    "___"
   ]
  },
  {
   "cell_type": "markdown",
   "id": "5d73b224-166e-48e5-8097-cbeba89350d7",
   "metadata": {},
   "source": [
    "### Find $\\dfrac{\\mathrm{d}y}{\\mathrm{d}x}$ at the given point. "
   ]
  },
  {
   "cell_type": "markdown",
   "id": "f84c2d55-94b4-4d78-a02d-9cba040bea4f",
   "metadata": {},
   "source": [
    "> 1) $$ \\mathrm{tan(x + y) = x} \\hspace{1cm}(0,0)$$"
   ]
  },
  {
   "cell_type": "markdown",
   "id": "310525e9-0cc8-4c06-8ef8-edd4f223a61d",
   "metadata": {},
   "source": [
    "$$ \\dfrac{\\mathrm{d}}{\\mathrm{d}x}\\mathrm{[tan(x + y) = x]} $$"
   ]
  },
  {
   "cell_type": "markdown",
   "id": "9405b73f-571a-4ae0-8f68-1ddc8d28c9cc",
   "metadata": {},
   "source": [
    "$$ \\mathrm{sec^2(x + y)}\\mathrm{\\bigg(1 + \\dfrac{\\mathrm{d}y}{\\mathrm{d}x}\\bigg)} = 1 $$"
   ]
  },
  {
   "cell_type": "markdown",
   "id": "813fa11f-ad4a-4046-8189-73d2a25c0a3c",
   "metadata": {},
   "source": [
    "$$ \\mathrm{\\bigg(1 + \\dfrac{\\mathrm{d}y}{\\mathrm{d}x}\\bigg)} = \\dfrac{\\mathrm{1}}{\\mathrm{sec^2(x + y)}} = \\mathrm{cos^2(x + y)} $$ "
   ]
  },
  {
   "cell_type": "markdown",
   "id": "c2b6a32d-145a-4595-b38f-94ad67cea1a7",
   "metadata": {},
   "source": [
    "$$ \\dfrac{\\mathrm{d}y}{\\mathrm{d}x} = \\mathrm{cos^2(x + y) - 1} $$ "
   ]
  },
  {
   "cell_type": "markdown",
   "id": "d1d035f6-c750-4efe-9f33-5996cfb2efef",
   "metadata": {},
   "source": [
    "<center> <span style='background :yellow' > $ \\dfrac{\\mathrm{d}y}{\\mathrm{d}x}\\bigg|_{(0,0)} = \\mathrm{cos^2(0 + 0) - 1} = 1^2 - 1 = 0 $ </span> </center> "
   ]
  },
  {
   "cell_type": "markdown",
   "id": "7d14e0ed-d8c4-4956-851d-460a2863b39b",
   "metadata": {},
   "source": [
    "> 2) $$ \\mathrm{x^2 + y^2 = 25} \\hspace{1cm}(-3,-4)$$ "
   ]
  },
  {
   "cell_type": "markdown",
   "id": "c6ed0b33-d75f-49de-abe8-28beaa3889c7",
   "metadata": {},
   "source": [
    "$$ \\dfrac{\\mathrm{d}}{\\mathrm{d}x}\\mathrm{[x^2 + y^2 = 25]} $$"
   ]
  },
  {
   "cell_type": "markdown",
   "id": "93ce871d-4d27-439b-b8af-139360bca2df",
   "metadata": {},
   "source": [
    "$$ \\mathrm{2x + 2y \\dfrac{\\mathrm{d}y}{\\mathrm{d}x} = 0} $$"
   ]
  },
  {
   "cell_type": "markdown",
   "id": "ed0e6059-8067-46c9-afb0-df5397376d04",
   "metadata": {},
   "source": [
    "$$ \\dfrac{\\mathrm{d}y}{\\mathrm{d}x} = \\dfrac{\\mathrm{-2x}}{\\mathrm{2y}} = \\dfrac{\\mathrm{-x}}{\\mathrm{y}} $$"
   ]
  },
  {
   "cell_type": "markdown",
   "id": "010613e6-e363-4b19-9463-01b8f5c7ea48",
   "metadata": {},
   "source": [
    "<center> <span style='background :yellow' > $ \\dfrac{\\mathrm{d}y}{\\mathrm{d}x}\\bigg|_{(-3,-4)} = \\dfrac{\\mathrm{-(-3)}}{\\mathrm{-4}} = \\dfrac{\\mathrm{-3}}{\\mathrm{4}} $ </span> </center> \n",
    "\n",
    "___"
   ]
  },
  {
   "cell_type": "markdown",
   "id": "6c906ee6-3d46-4317-bf96-21a173612edc",
   "metadata": {},
   "source": [
    "### Find $\\dfrac{\\mathrm{d^2}y}{\\mathrm{d}x^2}$ in terms of $x$ and $y$. "
   ]
  },
  {
   "cell_type": "markdown",
   "id": "493ddd8e-02ca-41ac-a83a-df74e2bcc897",
   "metadata": {},
   "source": [
    "$$ \\mathrm{x^2 + y^2 = 25} $$"
   ]
  },
  {
   "cell_type": "markdown",
   "id": "36d65f84-3eee-4b84-9824-0ea5679846f4",
   "metadata": {},
   "source": [
    "$$ \\dfrac{\\mathrm{d}}{\\mathrm{d}x}\\mathrm{[x^2 + y^2 = 25]} $$"
   ]
  },
  {
   "cell_type": "markdown",
   "id": "c27ba1d4-7574-43d5-8bc8-1fa9a5db122d",
   "metadata": {},
   "source": [
    "$$ \\mathrm{2x + 2y \\dfrac{\\mathrm{d}y}{\\mathrm{d}x} = 0} $$ "
   ]
  },
  {
   "cell_type": "markdown",
   "id": "5e5fe90b-e180-4548-bc0e-5b8dddda0b19",
   "metadata": {},
   "source": [
    "$$ \\dfrac{\\mathrm{d}y}{\\mathrm{d}x} = \\dfrac{\\mathrm{-2x}}{\\mathrm{2y}} = \\dfrac{\\mathrm{-x}}{\\mathrm{y}} $$ "
   ]
  },
  {
   "cell_type": "markdown",
   "id": "34a500bd-c08d-4ac6-88cf-66212090f24b",
   "metadata": {},
   "source": [
    "$$ \\dfrac{\\mathrm{d}}{\\mathrm{d}x} \\bigg[\\dfrac{\\mathrm{d}y}{\\mathrm{d}x} = \\dfrac{\\mathrm{-x}}{\\mathrm{y}} \\bigg] $$ "
   ]
  },
  {
   "cell_type": "markdown",
   "id": "3e69c7ce-3548-4460-bb25-d5fd60759777",
   "metadata": {},
   "source": [
    "$$ \\dfrac{\\mathrm{d^2}y}{\\mathrm{d}x^2} = \\dfrac{\\mathrm{y(-1)-(-x)\\dfrac{\\mathrm{d}y}{\\mathrm{d}x}}}{\\mathrm{y^2}} $$ "
   ]
  },
  {
   "cell_type": "markdown",
   "id": "8236ab1b-aae8-4833-9197-e9f1a4a2208c",
   "metadata": {},
   "source": [
    "$$ \\dfrac{\\mathrm{ \\bigg[-y + x \\bigg( \\dfrac{ \\mathrm{-x}}{\\mathrm{y}} \\bigg) \\bigg]}}{\\mathrm{y^2}} \\cdot \\dfrac{\\mathrm{y}}{\\mathrm{y}} $$ "
   ]
  },
  {
   "cell_type": "markdown",
   "id": "a4b6d461-4dc5-4144-a214-c3cb24607579",
   "metadata": {},
   "source": [
    "<center> <span style='background :yellow' > $ \\dfrac{\\mathrm{d^2}y}{\\mathrm{d}x^2} = \\dfrac{\\mathrm{-y^2 - x^2}}{\\mathrm{y^3}} $ </span> </center> "
   ]
  },
  {
   "cell_type": "markdown",
   "id": "edf67fd6-9acb-41bd-88bd-6d09ca31edce",
   "metadata": {},
   "source": []
  }
 ],
 "metadata": {
  "kernelspec": {
   "display_name": "Python 3 (ipykernel)",
   "language": "python",
   "name": "python3"
  },
  "language_info": {
   "codemirror_mode": {
    "name": "ipython",
    "version": 3
   },
   "file_extension": ".py",
   "mimetype": "text/x-python",
   "name": "python",
   "nbconvert_exporter": "python",
   "pygments_lexer": "ipython3",
   "version": "3.9.9"
  }
 },
 "nbformat": 4,
 "nbformat_minor": 5
}
