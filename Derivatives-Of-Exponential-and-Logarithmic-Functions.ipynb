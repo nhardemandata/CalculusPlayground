{
 "cells": [
  {
   "cell_type": "markdown",
   "id": "96e52d1f-75e5-4a83-888c-1fa20457469a",
   "metadata": {},
   "source": [
    "# **Derivatives of Exponential and Logarithmic Functions**"
   ]
  },
  {
   "cell_type": "markdown",
   "id": "d87ddb55-4fd2-4732-ae73-300364886015",
   "metadata": {},
   "source": [
    "## *The Inverse Function Theorem*\n",
    "\n",
    "Let $ \\mathrm{f(x)} $ be a funciton that has an inverse function and is differentiable. Let $ \\mathrm{g(x)} $ be the inverse function of $ \\mathrm{f(x)} $. \n",
    "\n",
    "Then $$ \\dfrac{\\mathrm{d}}{\\mathrm{d}x}[\\mathrm{g(x)}] = \\dfrac{\\mathrm{1}}{\\mathrm{f'(g(x))}}$$ "
   ]
  },
  {
   "cell_type": "markdown",
   "id": "7a094380-aa72-4651-89b1-2493a5c43f3c",
   "metadata": {},
   "source": [
    "We know that $ \\mathrm{f(x) = e^x} $ and $ \\mathrm{g(x) = ln(x)} $ so if we apply the inverse function theorem: \n",
    "\n",
    "$$ \\dfrac{\\mathrm{d}}{\\mathrm{d}x}\\mathrm{ln(x)} = \\dfrac{\\mathrm{1}}{\\mathrm{e^{ln(x)}}} = \\dfrac{\\mathrm{1}}{\\mathrm{x}}$$ "
   ]
  },
  {
   "cell_type": "markdown",
   "id": "41681a17-3aa4-4cbc-831e-d68bd1bcc14c",
   "metadata": {},
   "source": [
    "## *Derivatives of Exponentials and Logarithms of base $b > 0$, $b \\neq 1$ and $b \\neq e$* "
   ]
  },
  {
   "cell_type": "markdown",
   "id": "d4328510-2f3d-464f-8b63-4f3e26fc048b",
   "metadata": {},
   "source": [
    "> ### *Derivative of Exponentials*"
   ]
  },
  {
   "cell_type": "markdown",
   "id": "4591acc9-bac3-4ab9-b250-6676d2d8fde6",
   "metadata": {},
   "source": [
    ">> If $ \\mathrm{y = b^x} $, then $ \\mathrm{ln(y) = ln(b^x)} $ so $ \\mathrm{ln(y) = xln(b)} $ using the power rule for logarithms. "
   ]
  },
  {
   "cell_type": "markdown",
   "id": "fc19504f-4503-4bfc-b56c-a529f2b769e2",
   "metadata": {},
   "source": [
    "$$ \\dfrac{\\mathrm{d}}{\\mathrm{d}x}[\\mathrm{ln(y) = xln(b)}]$$ "
   ]
  },
  {
   "cell_type": "markdown",
   "id": "3d82c082-14da-44d0-acde-aa314e149ac4",
   "metadata": {},
   "source": [
    "$$ \\dfrac{\\mathrm{1}}{\\mathrm{y}}\\mathrm{y'} = \\mathrm{ln(b)}$$ "
   ]
  },
  {
   "cell_type": "markdown",
   "id": "cc5a7659-d45a-4dc3-bb92-2c9861937308",
   "metadata": {},
   "source": [
    "$$ \\mathrm{y' = y \\cdot ln(b) = b^x ln(b)} $$"
   ]
  },
  {
   "cell_type": "markdown",
   "id": "579dfd68-7e46-405b-9152-113fe7f5280d",
   "metadata": {},
   "source": [
    "#### *Theorem*"
   ]
  },
  {
   "cell_type": "markdown",
   "id": "2d25229b-f3d1-403c-b645-cc72ba2c466b",
   "metadata": {},
   "source": [
    "$$ \\dfrac{\\mathrm{d}}{\\mathrm{d}x}[\\mathrm{b^u}] = {\\mathrm{b^u \\cdot ln(b) \\cdot u'}}$$ "
   ]
  },
  {
   "cell_type": "markdown",
   "id": "f7fc16f7-6f3a-4d76-9b65-4bc2dd14aa46",
   "metadata": {},
   "source": [
    "___"
   ]
  },
  {
   "cell_type": "markdown",
   "id": "71233081-42ae-4976-8dae-cfa3eaf916e3",
   "metadata": {},
   "source": [
    "> ### *Derivative of Logarithms*"
   ]
  },
  {
   "cell_type": "markdown",
   "id": "6a1ca68c-843f-4983-8565-f886f148303f",
   "metadata": {},
   "source": [
    ">> If $ \\mathrm{y = log_{b}(x)} $, then $ \\mathrm{b^y = x} $ so $ \\mathrm{ln(b^y) = ln(x)} $ so $ \\mathrm{y \\cdot ln(b) = ln(x)} $ by the power rule for logarithms. "
   ]
  },
  {
   "cell_type": "markdown",
   "id": "53926f3a-1a0a-4095-a650-f10a4f480035",
   "metadata": {},
   "source": [
    "$$ \\mathrm{y} =  \\dfrac{\\mathrm{ln(x)}}{\\mathrm{ln(b)}} $$ "
   ]
  },
  {
   "cell_type": "markdown",
   "id": "7b20089c-a85e-4d48-a5f5-fb6459f7e00a",
   "metadata": {},
   "source": [
    "$$ \\mathrm{log_{b}(x)} =  \\dfrac{\\mathrm{ln(x)}}{\\mathrm{ln(b)}} $$"
   ]
  },
  {
   "cell_type": "markdown",
   "id": "9254872c-8af3-4b56-b3ab-52348d0ad33a",
   "metadata": {},
   "source": [
    "$$ \\mathrm{y'} =  \\dfrac{\\mathrm{1}}{\\mathrm{ln(b) \\cdot x}} $$"
   ]
  },
  {
   "cell_type": "markdown",
   "id": "97c5fff1-a3f6-451e-87ea-aaff405669fe",
   "metadata": {},
   "source": [
    "#### *Theorem*"
   ]
  },
  {
   "cell_type": "markdown",
   "id": "06bec5e7-cb2d-4ec9-8acc-9c347a1bb8fc",
   "metadata": {},
   "source": [
    "$$ \\dfrac{\\mathrm{d}}{\\mathrm{d}x}[log_{b}(u)] = \\dfrac{\\mathrm{u'}}{\\mathrm{ln(b) \\cdot u}} $$"
   ]
  },
  {
   "cell_type": "markdown",
   "id": "da7746e0-6e29-4d8a-b539-5bfe9e99d6e0",
   "metadata": {},
   "source": [
    "---"
   ]
  },
  {
   "cell_type": "markdown",
   "id": "aa1f0bbd-a269-4cde-a7ed-2c16f23a8dd5",
   "metadata": {},
   "source": [
    "#### Final Two Theorems:"
   ]
  },
  {
   "cell_type": "markdown",
   "id": "a1ed514e-1da9-4101-91bc-c1c0c97df2d7",
   "metadata": {},
   "source": [
    "$$ \\dfrac{\\mathrm{d}}{\\mathrm{d}x}[\\mathrm{e^x}] = \\mathrm{e^x} $$"
   ]
  },
  {
   "cell_type": "markdown",
   "id": "8d5f2dff-72dd-49cb-b0d2-a39479f2d202",
   "metadata": {},
   "source": [
    "$$ \\dfrac{\\mathrm{d}}{\\mathrm{d}x}[\\mathrm{e^u}] = \\mathrm{u' \\cdot e^u} $$"
   ]
  },
  {
   "cell_type": "code",
   "execution_count": null,
   "id": "5ab7dc70-8989-4876-be70-5fdd7f43a708",
   "metadata": {},
   "outputs": [],
   "source": []
  }
 ],
 "metadata": {
  "kernelspec": {
   "display_name": "Python 3 (ipykernel)",
   "language": "python",
   "name": "python3"
  },
  "language_info": {
   "codemirror_mode": {
    "name": "ipython",
    "version": 3
   },
   "file_extension": ".py",
   "mimetype": "text/x-python",
   "name": "python",
   "nbconvert_exporter": "python",
   "pygments_lexer": "ipython3",
   "version": "3.9.9"
  }
 },
 "nbformat": 4,
 "nbformat_minor": 5
}
