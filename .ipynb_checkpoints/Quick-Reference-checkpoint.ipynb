{
 "cells": [
  {
   "cell_type": "markdown",
   "id": "aa165314-05b3-45b7-8b14-e78a8b5c9cc1",
   "metadata": {},
   "source": [
    "# **Quick Reference**"
   ]
  },
  {
   "cell_type": "markdown",
   "id": "26cc4865-87fb-42e9-826e-6a8a42778020",
   "metadata": {},
   "source": [
    "dy/dx bold: $$ \\mathbf{ \\dfrac{\\mathrm{\\mathbf{d}}y}{\\mathrm{\\mathbf{d}}x}}$$ "
   ]
  },
  {
   "cell_type": "markdown",
   "id": "43a00585-2567-41db-9da4-eb6ffad6ac73",
   "metadata": {},
   "source": [
    "dy/dx: $$ \\dfrac{\\mathrm{d}y}{\\mathrm{d}x}$$"
   ]
  },
  {
   "cell_type": "markdown",
   "id": "2e84c75f-26b1-4c2c-a8a7-b73108ac8499",
   "metadata": {},
   "source": []
  }
 ],
 "metadata": {
  "kernelspec": {
   "display_name": "Python 3 (ipykernel)",
   "language": "python",
   "name": "python3"
  },
  "language_info": {
   "codemirror_mode": {
    "name": "ipython",
    "version": 3
   },
   "file_extension": ".py",
   "mimetype": "text/x-python",
   "name": "python",
   "nbconvert_exporter": "python",
   "pygments_lexer": "ipython3",
   "version": "3.9.9"
  }
 },
 "nbformat": 4,
 "nbformat_minor": 5
}
