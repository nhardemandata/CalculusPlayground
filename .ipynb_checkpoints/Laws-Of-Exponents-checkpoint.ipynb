{
 "cells": [
  {
   "cell_type": "markdown",
   "id": "a193bbe9-7d7e-455e-a8e7-d0497f226b75",
   "metadata": {},
   "source": [
    "# **Laws of Exponents**"
   ]
  },
  {
   "cell_type": "markdown",
   "id": "91bd112c-645b-44f4-83dc-b9339f3b0162",
   "metadata": {},
   "source": [
    "### *Product Rule*\n",
    "\n",
    "$$ \\mathrm{a^m a^n} = \\mathrm{a^{m + n}} $$\n",
    "\n",
    "> example:\n",
    "\n",
    "$$ 2^3 2^4 = 2^{3 + 4} = 2^7 = 128 $$"
   ]
  },
  {
   "cell_type": "markdown",
   "id": "4d2bd641-5704-4bc3-890e-37982c8fc2a0",
   "metadata": {},
   "source": [
    "### *Quotient Rule*\n",
    "\n",
    "$$ \\dfrac{\\mathrm{a^m}}{\\mathrm{a^n}} = \\mathrm{a^{m-n}} $$\n",
    "\n",
    "> example: \n",
    "\n",
    "$$ \\dfrac{\\mathrm{2^5}}{\\mathrm{2^3}} = 2^{5 - 3} = 2^2 = 4 $$"
   ]
  },
  {
   "cell_type": "markdown",
   "id": "3471ae24-d15c-4e43-82e9-9f0c4b168abc",
   "metadata": {},
   "source": [
    "### *Power Rule*\n",
    "\n",
    "$$ \\mathrm{(a^m)^n} = \\mathrm{a^{mn}} $$\n",
    "\n",
    "> example:\n",
    "\n",
    "$$ (2^2)^3 = 2^{2 \\cdot 3} = 2^6 = 64 $$"
   ]
  },
  {
   "cell_type": "markdown",
   "id": "b94f6cb2-bd19-4d80-801e-b56c6bc3d1e1",
   "metadata": {},
   "source": [
    "### *Fraction Rule*\n",
    "\n",
    "$$ \\bigg( \\dfrac{\\mathrm{a}}{\\mathrm{b}} \\bigg)^n = \\dfrac{\\mathrm{a^n}}{\\mathrm{b^n}} $$ \n",
    "\n",
    "> example: \n",
    "\n",
    "$$ \\bigg( \\dfrac{\\mathrm{2}}{\\mathrm{3}} \\bigg)^2 = \\dfrac{\\mathrm{2^2}}{\\mathrm{3^2}} = \\dfrac{\\mathrm{4}}{\\mathrm{9}} $$"
   ]
  },
  {
   "cell_type": "code",
   "execution_count": null,
   "id": "2918db08-2258-4b83-aa19-e843496a449b",
   "metadata": {},
   "outputs": [],
   "source": []
  }
 ],
 "metadata": {
  "kernelspec": {
   "display_name": "Python 3 (ipykernel)",
   "language": "python",
   "name": "python3"
  },
  "language_info": {
   "codemirror_mode": {
    "name": "ipython",
    "version": 3
   },
   "file_extension": ".py",
   "mimetype": "text/x-python",
   "name": "python",
   "nbconvert_exporter": "python",
   "pygments_lexer": "ipython3",
   "version": "3.9.9"
  }
 },
 "nbformat": 4,
 "nbformat_minor": 5
}
