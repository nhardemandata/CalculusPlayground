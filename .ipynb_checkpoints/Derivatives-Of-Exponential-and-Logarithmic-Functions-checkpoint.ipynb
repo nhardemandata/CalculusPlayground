{
 "cells": [
  {
   "cell_type": "markdown",
   "id": "96e52d1f-75e5-4a83-888c-1fa20457469a",
   "metadata": {},
   "source": [
    "# **Derivatives of Exponential and Logarithmic Functions**"
   ]
  },
  {
   "cell_type": "markdown",
   "id": "d87ddb55-4fd2-4732-ae73-300364886015",
   "metadata": {},
   "source": [
    "## *The Inverse Function Theorem*\n",
    "\n",
    "Let $ \\mathrm{f(x)} $ be a funciton that has an inverse function and is differentiable. Let $ \\mathrm{g(x)} $ be the inverse function of $ \\mathrm{f(x)} $. \n",
    "\n",
    "Then $$ \\dfrac{\\mathrm{d}}{\\mathrm{d}x}[\\mathrm{g(x)}] = \\dfrac{\\mathrm{1}}{\\mathrm{f'(g(x))}}$$ "
   ]
  },
  {
   "cell_type": "markdown",
   "id": "7a094380-aa72-4651-89b1-2493a5c43f3c",
   "metadata": {},
   "source": [
    "We know that $ \\mathrm{f(x) = e^x} $ and $ \\mathrm{g(x) = ln(x)} $ so if we apply the inverse function theorem: \n",
    "\n",
    "$$ \\dfrac{\\mathrm{d}}{\\mathrm{d}x}\\mathrm{ln(x)} = \\dfrac{\\mathrm{1}}{\\mathrm{e^{ln(x)}}} = \\dfrac{\\mathrm{1}}{\\mathrm{x}}$$ "
   ]
  },
  {
   "cell_type": "markdown",
   "id": "41681a17-3aa4-4cbc-831e-d68bd1bcc14c",
   "metadata": {},
   "source": [
    "## *Derivatives of Exponentials and Logarithms of base $b > 0$, $b \\neq 1$ and $b \\neq e$* "
   ]
  },
  {
   "cell_type": "markdown",
   "id": "4591acc9-bac3-4ab9-b250-6676d2d8fde6",
   "metadata": {},
   "source": [
    "> If $ \\mathrm{y = b^x} $, then $ \\mathrm{ln(y) = ln(b^x)} $ so $ \\mathrm{ln(y) = xln(b)} $ using the power rule for logarithms. "
   ]
  },
  {
   "cell_type": "markdown",
   "id": "fc19504f-4503-4bfc-b56c-a529f2b769e2",
   "metadata": {},
   "source": [
    "$$ \\dfrac{\\mathrm{d}}{\\mathrm{d}x}[\\mathrm{ln(y) = xln(b)}]$$ "
   ]
  },
  {
   "cell_type": "markdown",
   "id": "3d82c082-14da-44d0-acde-aa314e149ac4",
   "metadata": {},
   "source": [
    "$$ \\dfrac{\\mathrm{1}}{\\mathrm{y}}\\mathrm{y'} = \\mathrm{ln(b)}$$ "
   ]
  },
  {
   "cell_type": "markdown",
   "id": "cc5a7659-d45a-4dc3-bb92-2c9861937308",
   "metadata": {},
   "source": [
    "$$ \\mathrm{y' = y \\cdot ln(b) = b^x ln(b)} $$"
   ]
  },
  {
   "cell_type": "markdown",
   "id": "6a1ca68c-843f-4983-8565-f886f148303f",
   "metadata": {},
   "source": [
    "> If $ \\mathrm{y = log_{b}(x)} $, then $ \\mathrm{b^y = x} $ so $ \\mathrm{ln(b^y) = ln(x)} $ so $ \\mathrm{y \\cdot ln(b) = ln(x)} $ by the power rule for logarithms. "
   ]
  },
  {
   "cell_type": "code",
   "execution_count": null,
   "id": "5401a186-fcfb-447e-8e54-e924f23c73e9",
   "metadata": {},
   "outputs": [],
   "source": []
  }
 ],
 "metadata": {
  "kernelspec": {
   "display_name": "Python 3 (ipykernel)",
   "language": "python",
   "name": "python3"
  },
  "language_info": {
   "codemirror_mode": {
    "name": "ipython",
    "version": 3
   },
   "file_extension": ".py",
   "mimetype": "text/x-python",
   "name": "python",
   "nbconvert_exporter": "python",
   "pygments_lexer": "ipython3",
   "version": "3.9.9"
  }
 },
 "nbformat": 4,
 "nbformat_minor": 5
}
