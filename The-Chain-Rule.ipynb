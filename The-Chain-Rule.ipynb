{
 "cells": [
  {
   "cell_type": "markdown",
   "id": "e9c6ebef-21a5-4602-be4c-1091b2305d6e",
   "metadata": {},
   "source": [
    "# **The Chain Rule**\n",
    "\n",
    "If $\\mathbf{y=f(u)}$ is a differentiable function of $\\mathbf{u}$ and $\\mathbf{u=g(x)}$ is a differentiable funciton of $\\mathbf{x}$, then $\\mathbf{y=f(g(x))}$ is a differentiable funciton of $\\mathbf{x}$ and \n",
    "$\\mathbf{ \\dfrac{\\mathrm{\\mathbf{d}}y}{\\mathrm{\\mathbf{d}}x}}$ = $\\mathbf{\\dfrac{\\mathrm{\\mathbf{d}}y}{\\mathrm{\\mathbf{d}}u}}$ $\\mathbf{\\cdot \\dfrac{\\mathrm{\\mathbf{d}}u}{\\mathrm{\\mathbf{d}}x}}$ or, equivalently $\\mathbf{\\dfrac{\\mathrm{\\mathbf{d}}}{\\mathrm{\\mathbf{d}}x}[f(g(x))]}$ = $\\mathbf{f'(g(x))g'(x)}$\n",
    "\n",
    "Start by taking the derivative of the outisde function, followed by the derivative fo the inside function. \n",
    "\n",
    "### Identifying the inside and outside functions of compositions & taking their derivatives"
   ]
  },
  {
   "cell_type": "markdown",
   "id": "d4242575-3656-4618-8bad-9174319e5ca1",
   "metadata": {},
   "source": [
    "*Example A*: $$ \\mathbf{f(x) = (3x^2 + 2x)^2}$$\n",
    "\n",
    "**Outside function**: $$(3x^2 + 2x)^2$$ \n",
    "\n",
    "**Inside function**: $$(3x^2 +2x)$$ \n",
    "\n",
    "**Derivative of the funciton using the chain rule**: *Derivative of the outisde times the derivative of the inside*  \n",
    "$${\\dfrac{\\mathrm{d}}{\\mathrm{d}x}(3x^2 + 2x)^2 = 2(3x^2 + 2x)\\cdot(6x+2)} = $$\n",
    "\n",
    "<center> <span style='background :yellow' > $(12x + 4)(3x^2 + 2x)$ </span> </center> \n",
    "\n",
    "---\n",
    "\n",
    "*Example B*: $$ \\mathbf{3tan(\\pi x^2)}$$ \n",
    "\n",
    "**Outside function**: $$3tan(\\pi x^2)$$  \n",
    "\n",
    "**Inside function**: $$ \\pi x^2 $$\n",
    "\n",
    "**Derivative of the funciton using the chain rule**: *Derivative of the outisde times the derivative of the inside*  \n",
    "$$\\dfrac{\\mathrm{d}}{\\mathrm{d}x}3tan(\\pi x^2) = 3sec^2(\\pi x^2)\\cdot2\\pi x =$$ \n",
    "\n",
    "<center> <span style='background :yellow' > $6\\pi xsec^2(\\pi x^2)$ </span> </center>  \n",
    "\n",
    "---"
   ]
  },
  {
   "cell_type": "markdown",
   "id": "a4d29fa2-dbd5-4d05-a242-882a3fa1ae9e",
   "metadata": {},
   "source": [
    "## **The General Power Rule**\n",
    "\n",
    "If $u$ is a differentiable function of $x$ and $n$ is a rational number, then the derivative of $f(x) = u^n$ is $f'(x) = nu^{n-1}u'$ equivalently $\\dfrac{\\mathrm{d}y}{\\mathrm{d}x} = n \\cdot u(x)^{n-1}\\dfrac{\\mathrm{d}u}{\\mathrm{d}x}$ "
   ]
  },
  {
   "cell_type": "markdown",
   "id": "d15a5423-5fa4-445d-a332-e0fa8294a7de",
   "metadata": {},
   "source": [
    "*Examples*: **Find the derivatives**\n",
    "\n",
    "A: $$ \\mathbf{f(x) = \\sqrt[3]{x^2 - 4x - 2}}$$ \n",
    "\n",
    "**Function rewrite**: $$f(x) = (x^2 - 4x - 2)^{1/3}$$\n",
    "\n",
    "**Use chain rule to derive**: $$f'(x) = \\dfrac {\\mathrm{1}}{\\mathrm{3}}(x^2 - 4x - 2)^{-2/3} \\cdot (2x - 4)$$ \n",
    "\n",
    "**Rewrite negative exponents to arrive at final form**: <center> <span style='background :yellow' > $f'(x) = \\dfrac{\\mathrm{2x - 4}}{\\mathrm{3 \\sqrt[3]{(x^2 - 4x - 2)^2}}}$ </span> </center> \n",
    "\n",
    "---"
   ]
  },
  {
   "cell_type": "markdown",
   "id": "67f2ca0d-6dd0-443f-b434-2689dfe4a282",
   "metadata": {},
   "source": [
    "B: $$ \\mathbf{y = \\dfrac{\\mathrm{\\mathbf{x}}}{\\mathrm{\\mathbf{\\sqrt{x^4 + 4}}}}}$$ \n",
    "\n",
    "**Function rewrite**: $$x(x^4+ 4)^{-1/2}$$\n",
    "\n",
    "**Use chain rule and product rule to derive**: $$y' = 1 \\cdot (x^4 + 4)^{-1/2} + [x \\cdot \\dfrac {\\mathrm{-1}}{\\mathrm{2}} (x^4 + 4)^{-3/2} \\cdot 4x^3]$$ \n",
    "\n",
    "**Factor out the lowest power of the in common expression**: $$y' = (x^4 + 4)^{-3/2}[(x^4 + 4) - 2x^4]$$\n",
    "\n",
    "**Combine like terms and rewrite negative exponents**: <center> <span style='background :yellow' > $y' = \\dfrac {\\mathrm{-x^4 + 4}}{\\mathrm{\\sqrt{(x^4 + 4)^3}}}$ </span> </center>  \n",
    "\n",
    "---"
   ]
  },
  {
   "cell_type": "markdown",
   "id": "6a9558d3-5c04-4681-9969-0346aa7e0294",
   "metadata": {},
   "source": [
    "C: $$ \\mathbf{g(x) = \\bigg( \\dfrac {\\mathrm{\\mathbf{3x^2 - 2}}}{\\mathrm{\\mathbf{2x + 3}}} \\bigg)^2}$$ \n",
    "\n",
    "**Use chain rule and quotient rule to derive**: $$g'(x) = 2 \\bigg( \\dfrac {\\mathrm{3x^2 - 2}}{\\mathrm{2x + 3}} \\bigg) \\cdot  \\bigg( \\dfrac {\\mathrm{6x(2x + 3) - 2(3x^2 - 2}}{\\mathrm{(2x + 3)^2}} \\bigg)$$\n",
    "\n",
    "**Combine like terms in the numerator and multiply the denominator**: $$g'(x) = 2 \\bigg( \\dfrac {\\mathrm{(3x^2 - 2)(6x^2 + 18x + 4)}}{\\mathrm{(2x + 3)^3}} \\bigg)$$ \n",
    "\n",
    "**Factor out 2 for final form**: <center> <span style='background :yellow' > $g'(x) = 4 \\bigg( \\dfrac {\\mathrm{(3x^2 - 2)(3x^2 + 9x + 2)}}{\\mathrm{(2x + 3)^3}} \\bigg)$ </span> </center> \n",
    "\n",
    "---"
   ]
  },
  {
   "cell_type": "markdown",
   "id": "ff8a6b17-0f29-41fa-8f80-ee63d3300ef9",
   "metadata": {},
   "source": [
    "D: $$ \\mathbf{y = sin(\\pi x)}$$ \n",
    "\n",
    "**Chain rule**: $$y' = cos(\\pi x) \\cdot \\pi$$ \n",
    "\n",
    "**Rearrange**: <center> <span style='background :yellow' > $y' = \\pi cos(\\pi x)$ </span> </center> \n",
    "\n",
    "---"
   ]
  },
  {
   "cell_type": "markdown",
   "id": "24b670c6-d5f1-440f-ad25-2f211837722a",
   "metadata": {},
   "source": [
    "E: $$ \\mathbf{g(v) = \\dfrac {\\mathrm{\\mathbf{cos(v)}}}{\\mathrm{\\mathbf{csc(v)}}}}$$ \n",
    "\n",
    "**Rewrite**: $${\\mathrm{g(v)}} = \\dfrac {\\mathrm{cos(v)}}{\\mathrm{\\dfrac {\\mathrm{1}}{\\mathrm{sin(v)}}}} = {\\mathrm{cos(v)sin(v)}}$$ \n",
    "\n",
    "**Product rule**: $${\\mathrm{g'(v)}} = -{\\mathrm{sin(v)sin(v)}} + {\\mathrm{cos(v)cos(v)}} = {\\mathrm{cos^2(v) - sin^2(v)}}$$ \n",
    "\n",
    "**Use double angle to finish differentiating**: <center> <span style='background :yellow' > ${\\mathrm{g'(v) = cos(2v)}}$ </span> </center> \n",
    "\n",
    "---"
   ]
  },
  {
   "cell_type": "markdown",
   "id": "db45c2a5-cf74-4eda-9719-2afa9734a009",
   "metadata": {},
   "source": [
    "F: $$\\mathbf{h(t) = {\\mathrm{\\mathbf{2cot^2(\\pi t - 1)}}}}$$ \n",
    "\n",
    "**Chain rule**: $$ {\\mathrm{h'(t)}} = 2 \\cdot {\\mathrm{2cot(\\pi t - 1)(-csc^2(\\pi t - 1)) \\cdot \\pi}}$$ \n",
    "\n",
    "**Combine and rearrange**: <center> <span style='background :yellow' > $ {\\mathrm{h'(t)}} = -4 \\pi {\\mathrm{cot(\\pi t - 1)csc^2(\\pi t - 1)}}$ </span> </center>  \n",
    "\n",
    "---"
   ]
  },
  {
   "cell_type": "markdown",
   "id": "007ebe34-3b31-4dd9-9ded-ac781f2169cb",
   "metadata": {},
   "source": [
    "G: $$ \\mathbf{y = sin(\\sqrt[3]{x}) + \\sqrt[3]{sin(x)}}$$ \n",
    "\n",
    "**Rewrite**: $$ {\\mathrm{y = sin(x^{1/3})+(sin(x))^{1/3}}}$$ \n",
    "\n",
    "**Chain rule**: $$ {\\mathrm{y' = cos(x^{1/3})}} \\cdot \\dfrac {\\mathrm{1}}{\\mathrm{3}}{\\mathrm{x^{-2/3}}} + \\dfrac {\\mathrm{1}}{\\mathrm{3}}{\\mathrm{(sin(x))^{-2/3}cos(x)}}$$ \n",
    "\n",
    "**Rewrtie negative exponents**: <center> <span style='background :yellow' > ${\\mathrm{y'}} = \\dfrac {\\mathrm{cos(\\sqrt[3]{x})}}{\\mathrm{3\\sqrt[3]{x^2}}} + \\dfrac {\\mathrm{cos(x)}}{\\mathrm{3\\sqrt[3]{sin^2(x)}}}$ </span> </center>\n",
    "\n",
    "---"
   ]
  },
  {
   "cell_type": "markdown",
   "id": "a6103e51-20a2-49bd-ab7e-cfa157b1c2cd",
   "metadata": {},
   "source": [
    "### **Find the second derivative and evaluate at x = 0**\n",
    "\n",
    "$$ \\mathbf{f(x) = \\dfrac {\\mathrm{\\mathbf{1}}}{\\mathrm{\\mathbf{\\sqrt{x + 4}}}}}$$ \n",
    "\n",
    "**Rewrite**: $$ \\mathrm{f(x)} = \\mathrm{(x + 4)^{-1/2}}$$ \n",
    "\n",
    "**First derivative**: $$ \\mathrm{f'(x)} = \\dfrac{\\mathrm{-1}}{\\mathrm{2}}\\mathrm{(x + 4)^{-3/2}}$$ \n",
    "\n",
    "**Second derivative**: $$ \\mathrm{f''(x)} = \\dfrac{\\mathrm{-1}}{\\mathrm{2}} \\cdot \\dfrac{\\mathrm{-3}}{\\mathrm{2}}\\mathrm{(x + 4)^{-5/2}}$$ \n",
    "\n",
    "**Second derivative simplified**: $$ \\mathrm{f''(x)} = \\dfrac{\\mathrm{3}}{\\mathrm{4}}\\mathrm{(x + 4)^{-5/2}}$$\n",
    "\n",
    "**Second derivative evaluated at x = 0**: $$ \\mathrm{f''(0)} = \\dfrac{\\mathrm{3}}{\\mathrm{4}}\\mathrm{(0 + 4)^{-5/2}}$$\n",
    "\n",
    "$$ = \\dfrac{\\mathrm{3}}{\\mathrm{4}} \\cdot \\mathrm{(4)^{-5/2}}$$\n",
    "\n",
    "$$ = \\dfrac{\\mathrm{3}}{\\mathrm{4}} \\cdot \\dfrac{\\mathrm{1}}{\\mathrm{32}}$$ \n",
    "\n",
    "<center> <span style='background :yellow' > $=\\dfrac{\\mathrm{3}}{\\mathrm{128}}$ </span> </center>\n",
    "\n",
    "---"
   ]
  },
  {
   "cell_type": "code",
   "execution_count": null,
   "id": "54b8d572-f267-4a7e-9eea-361e41630c09",
   "metadata": {},
   "outputs": [],
   "source": []
  }
 ],
 "metadata": {
  "kernelspec": {
   "display_name": "Python 3 (ipykernel)",
   "language": "python",
   "name": "python3"
  },
  "language_info": {
   "codemirror_mode": {
    "name": "ipython",
    "version": 3
   },
   "file_extension": ".py",
   "mimetype": "text/x-python",
   "name": "python",
   "nbconvert_exporter": "python",
   "pygments_lexer": "ipython3",
   "version": "3.9.9"
  }
 },
 "nbformat": 4,
 "nbformat_minor": 5
}
