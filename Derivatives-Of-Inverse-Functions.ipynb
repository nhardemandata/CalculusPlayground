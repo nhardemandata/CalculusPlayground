{
 "cells": [
  {
   "cell_type": "markdown",
   "id": "7830ec2f-c82f-47e2-b057-62937716c961",
   "metadata": {},
   "source": [
    "# **Derivatives of Inverse Functions**\n",
    "\n",
    "Let $u$ be a differentiable funciton of $x$.\n",
    "\n",
    "$$\\mathbf{ \\dfrac{\\mathrm{\\mathbf{d}}}{\\mathrm{\\mathbf{d}}x}}\\mathbf{[arcsin(u)]} = \\mathbf{\\dfrac{\\mathbf{u'}}{\\mathrm{\\mathbf{\\sqrt{1 - u^2}}}}}$$\n",
    "\n",
    "$$\\mathbf{ \\dfrac{\\mathrm{\\mathbf{d}}}{\\mathrm{\\mathbf{d}}x}}\\mathbf{[arccos(u)]} = \\mathbf{\\dfrac{\\mathbf{-u'}}{\\mathrm{\\mathbf{\\sqrt{1 - u^2}}}}}$$ \n",
    "\n",
    "$$\\mathbf{ \\dfrac{\\mathrm{\\mathbf{d}}}{\\mathrm{\\mathbf{d}}x}}\\mathbf{[arctan(u)]} = \\mathbf{\\dfrac{\\mathbf{u'}}{\\mathrm{\\mathbf{1 + u^2}}}}$$ \n",
    "\n",
    "$$\\mathbf{ \\dfrac{\\mathrm{\\mathbf{d}}}{\\mathrm{\\mathbf{d}}x}}\\mathbf{[arccot(u)]} = \\mathbf{\\dfrac{\\mathbf{-u'}}{\\mathrm{\\mathbf{1 + u^2}}}}$$\n",
    "\n",
    "$$\\mathbf{ \\dfrac{\\mathrm{\\mathbf{d}}}{\\mathrm{\\mathbf{d}}x}}\\mathbf{[arcsec(u)]} = \\mathbf{\\dfrac{\\mathbf{u'}}{\\mathrm{\\mathbf{|u|\\sqrt{u^2 - 1}}}}}$$ \n",
    "\n",
    "$$\\mathbf{ \\dfrac{\\mathrm{\\mathbf{d}}}{\\mathrm{\\mathbf{d}}x}}\\mathbf{[arccsc(u)]} = \\mathbf{\\dfrac{\\mathbf{-u'}}{\\mathrm{\\mathbf{|u|\\sqrt{u^2 - 1}}}}}$$ \n",
    "\n",
    "\n",
    "### **Helpful hint**: *The inverse functions that start with \"C\"s are ones with negative derivative formulas. (arcCos, arcCot, arcCsc)* \n",
    "---"
   ]
  },
  {
   "cell_type": "markdown",
   "id": "8fa3a16e-6fb8-4115-9b3f-98367bcc3379",
   "metadata": {},
   "source": [
    "## Find the derivative of each function.\n",
    "\n",
    "A: $$ \\mathbf{f(x)} = \\mathbf{arcsin(2x)}$$\n",
    "\n",
    "**Identify $u$**: $$u = 2x$$\n",
    "\n",
    "**Identify $u'$**: $$u' = 2$$ \n",
    "\n",
    "**Derivative of inverse sine**: $$ f'(x) = \\dfrac {\\mathrm{2}}{\\mathrm{\\sqrt{1 - (2x)^2}}}$$ \n",
    "\n",
    "**Simplify**: <center> <span style='background :yellow' > $f'(x) = \\dfrac {\\mathrm{2}}{\\mathrm{\\sqrt{1 - 4x^2}}}$ </span> </center> \n",
    "\n",
    "---"
   ]
  },
  {
   "cell_type": "markdown",
   "id": "15597d65-b7eb-41d2-9393-1bbb0ef7555f",
   "metadata": {},
   "source": [
    "B: $$ {\\mathbf{f(x)}} = \\mathbf{arccos(\\sqrt{x})}$$ \n",
    "\n",
    "**Identify $u$**: $$u = \\sqrt{x}$$\n",
    "\n",
    "**Identify $u'$**: $$u' = \\dfrac {\\mathrm{1}}{\\mathrm{2}}x^{-1/2} = \\dfrac {\\mathrm{1}}{\\mathrm{2\\sqrt{x}}}$$ \n",
    "\n",
    "**Derivative of inverse cosine**: $$ f'(x) = \\dfrac {\\mathrm{\\dfrac {\\mathrm{-1}}{\\mathrm{2\\sqrt{x}}}}}{\\mathrm{\\sqrt{1 - (\\sqrt{x})^2}}}$$ \n",
    "\n",
    "**Clear denominator**: $$ f'(x) = \\dfrac {\\mathrm{-1}}{\\mathrm{2\\sqrt{x}\\sqrt{1 - (\\sqrt{x})^2}}}$$ \n",
    "\n",
    "**Simplify**: <center> <span style='background :yellow' > $f'(x) = \\dfrac {\\mathrm{-1}}{\\mathrm{2\\sqrt{x - x^2}}}$ </span> </center> \n",
    "\n",
    "---"
   ]
  },
  {
   "cell_type": "markdown",
   "id": "cdc5a4ca-d45c-4e92-afc1-42ac8a0b8fe5",
   "metadata": {},
   "source": [
    "C: $$ \\mathbf{f(x)} = \\mathbf{arctan(x^2 + 5)}$$\n",
    "\n",
    "**Identify $u$**: $$u = x^2 + 5$$\n",
    "\n",
    "**Identify $u'$**: $$u' = 2x$$\n",
    "\n",
    "**Derivative of inverse tangent**: <center> <span style='background :yellow' > $f'(x) = \\dfrac {\\mathrm{2x}}{\\mathrm{1 + (x^2 + 5)^2}}$ </span> </center> \n",
    "\n",
    "---"
   ]
  },
  {
   "cell_type": "markdown",
   "id": "80ce9efa-0151-4697-b3bc-72d0fad3042c",
   "metadata": {},
   "source": [
    "D: $$ \\mathbf{f(x)} = \\mathbf{arcsin\\bigg(\\dfrac {\\mathrm{\\mathbf{x}}}{\\mathrm{\\mathbf{5}}} \\bigg)}$$\n",
    "\n",
    "**Identify $u$**: $$u = \\dfrac{\\mathrm{x}}{\\mathrm{5}}$$\n",
    "\n",
    "**Identify $u'$**: $$u' = \\dfrac{\\mathrm{1}}{\\mathrm{5}}$$\n",
    "\n",
    "**Derivative of inverse sine**: $$ f'(x) = \\dfrac {\\mathrm{\\dfrac {\\mathrm{1}}{\\mathrm{5}}}}{\\mathrm{\\sqrt{1 - \\bigg(\\dfrac {\\mathrm{x}}{\\mathrm{5}} \\bigg)^2}}}$$\n",
    "\n",
    "**Factor out $\\dfrac{\\mathrm{1}}{\\mathrm{5}}$**: $$ f'(x) = \\dfrac {\\mathrm{\\dfrac {\\mathrm{1}}{\\mathrm{5}}}}{\\mathrm{\\dfrac{\\mathrm{1}}{\\mathrm{5}}\\sqrt{25 - x^2}}}$$ \n",
    "\n",
    "**Simplify**: <center> <span style='background :yellow' > $f'(x) = \\dfrac {\\mathrm{1}}{\\mathrm{\\sqrt{25 - x^2}}}$ </span> </center>\n",
    "\n",
    "---"
   ]
  },
  {
   "cell_type": "markdown",
   "id": "c4945c9d-8af5-4ec9-892c-ecc425866eb5",
   "metadata": {},
   "source": [
    "E: $$ \\mathbf{f(x)} = \\mathbf{arcsec(\\mathrm{e^x})}$$ \n",
    "\n",
    "*Hint*: $ \\dfrac{\\mathrm{d}}{\\mathrm{d}x}[\\mathrm{e^x}]$ = $\\mathrm{e^x}$ \n",
    "\n",
    "**Identify $u$**: $$u = \\mathrm{e^x}$$\n",
    "\n",
    "**Identify $u'$**: $$u' = \\mathrm{e^x}$$ \n",
    "\n",
    "**Derivative of inverse tangent**: $$f'(x) = \\dfrac {\\mathrm{e^x}}{\\mathrm{|e^x|\\sqrt{(\\mathrm{e^x})^2 - 1}}}$$ \n",
    "\n",
    "**Simplify**: <center> <span style='background :yellow' > $f'(x) = \\dfrac {\\mathrm{1}}{\\mathrm{\\sqrt{\\mathrm{e^{2x}} - 1}}}$ </span> </center>\n",
    "\n",
    "---"
   ]
  },
  {
   "cell_type": "markdown",
   "id": "90ba93f4-9a11-491a-a497-74783f7c8bd3",
   "metadata": {},
   "source": [
    "G: Solve $$ \\mathbf{f(x)} = \\mathbf{36arcsin\\bigg(\\dfrac {\\mathrm{\\mathbf{x}}}{\\mathrm{\\mathbf{6}}} \\bigg) - x\\sqrt{36-x^2}}$$ \n",
    "\n",
    "**Chain rule and product rule**: $$y' = 36 \\bigg(\\dfrac {\\mathrm{\\dfrac{\\mathrm{1}}{\\mathrm{6}}}}{\\mathrm{\\sqrt{1 - \\bigg( \\dfrac{\\mathrm{x}}{\\mathrm{6}} \\bigg)^2}}} \\bigg) -\\sqrt{36 - x^2} - x \\dfrac{\\mathrm{1}}{\\mathrm{2}}(36 - x^2)^{-1/2}(-2x)$$ \n",
    "\n",
    "**Common denominator**: $$y' = 36 \\bigg(\\dfrac {\\mathrm{\\dfrac{\\mathrm{1}}{\\mathrm{6}}}}{\\mathrm{\\dfrac{\\mathrm{1}}{\\mathrm{6}} \\sqrt{36 - x^2}}} \\bigg) -\\sqrt{36 - x^2} \\cdot \\bigg( \\dfrac{\\mathrm{\\sqrt{36 - x^2}}}{\\mathrm{\\sqrt{36 - x^2}}} \\bigg) + \\dfrac{\\mathrm{x^2}}{\\mathrm{\\sqrt{36 - x^2}}}$$ \n",
    "\n",
    "$$= \\dfrac{\\mathrm{36}}{\\mathrm{\\sqrt{36 - x^2}}} - \\dfrac{\\mathrm{36 - x^2}}{\\mathrm{\\sqrt{36 - x^2}}} + \\dfrac{\\mathrm{x^2}}{\\mathrm{\\sqrt{36 - x^2}}}$$\n",
    "\n",
    "**Simplify**: <center> <span style='background :yellow' > $y' = \\dfrac{\\mathrm{2x^2}}{\\mathrm{\\sqrt{36 - x^2}}}$ </span> </center> "
   ]
  },
  {
   "cell_type": "code",
   "execution_count": null,
   "id": "26aef465-cf82-4b97-b0a9-dbe5ca6d4e2c",
   "metadata": {},
   "outputs": [],
   "source": []
  }
 ],
 "metadata": {
  "kernelspec": {
   "display_name": "Python 3 (ipykernel)",
   "language": "python",
   "name": "python3"
  },
  "language_info": {
   "codemirror_mode": {
    "name": "ipython",
    "version": 3
   },
   "file_extension": ".py",
   "mimetype": "text/x-python",
   "name": "python",
   "nbconvert_exporter": "python",
   "pygments_lexer": "ipython3",
   "version": "3.9.9"
  }
 },
 "nbformat": 4,
 "nbformat_minor": 5
}
