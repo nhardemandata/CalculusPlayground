{
 "cells": [
  {
   "cell_type": "markdown",
   "id": "54701c94-3699-4f30-82bd-81a9cf086e97",
   "metadata": {},
   "source": [
    "# *Logarithms*\n",
    "\n",
    "What is a logarithm?\n",
    "\n",
    "A logarithm is a power of the base."
   ]
  },
  {
   "cell_type": "markdown",
   "id": "ef35d5db-fbb9-464f-bd6e-432b5ac783d5",
   "metadata": {},
   "source": [
    "$$ \\log_{a}(x) = \\mathrm{y} \\leftrightarrow x = a^y$$  "
   ]
  },
  {
   "cell_type": "markdown",
   "id": "73885b40-88fe-43de-857e-e86009dfe17e",
   "metadata": {},
   "source": [
    "$$ \\log_{b}a = \\dfrac {\\mathrm{\\log_{x}(a)}}{\\mathrm{\\log_{x}(b)}} $$ "
   ]
  },
  {
   "cell_type": "markdown",
   "id": "a9c42679-c7fd-4130-986f-faada3464e69",
   "metadata": {
    "tags": []
   },
   "source": [
    "## Properties of Logarithms\n",
    "\n",
    "* Product Rule"
   ]
  },
  {
   "cell_type": "markdown",
   "id": "ffd2639c-541a-4168-b44b-474895bd9e66",
   "metadata": {},
   "source": [
    "$$ \\log_{a}(xy) = \\log_{a}(x) + \\log_{a}(y) $$ "
   ]
  },
  {
   "cell_type": "markdown",
   "id": "5f029df5-4730-4210-b90d-f4dd1d3bddd3",
   "metadata": {},
   "source": [
    "* Quotient Rule"
   ]
  },
  {
   "cell_type": "markdown",
   "id": "c7d6391b-50d3-4ee1-88f3-7eb4b91f4a57",
   "metadata": {},
   "source": [
    "$$ \\log_{a} \\bigg(\\dfrac{\\mathrm{x}}{\\mathrm{y}} \\bigg) = \\log_{a}(x) - \\log_{a}(y) $$ "
   ]
  },
  {
   "cell_type": "markdown",
   "id": "34592a58-a247-449e-bb57-40f21b06d9db",
   "metadata": {},
   "source": [
    "* Power Rule"
   ]
  },
  {
   "cell_type": "markdown",
   "id": "85f4ad34-64fe-45c6-a8de-a5990bd5342b",
   "metadata": {},
   "source": [
    "$$ \\log_{a}(x^P) = P \\log_{a}(x) $$ "
   ]
  },
  {
   "cell_type": "markdown",
   "id": "6c2ed57e-bd63-48f8-93b7-e7f243e7c11f",
   "metadata": {},
   "source": [
    "* Change of Base Formula\n",
    "\n",
    "> Changing the logarithm from base b to base x."
   ]
  },
  {
   "cell_type": "markdown",
   "id": "a95d897e-53c6-4ec8-882f-125e0b61c1d8",
   "metadata": {},
   "source": [
    "$$ \\log_{b}a = \\dfrac {\\mathrm{\\log_{x}(a)}}{\\mathrm{\\log_{x}(b)}} $$  "
   ]
  },
  {
   "cell_type": "markdown",
   "id": "eaf05a22-ca5a-4ac5-8477-c29e5473e90b",
   "metadata": {},
   "source": [
    "* Equality Rule"
   ]
  },
  {
   "cell_type": "markdown",
   "id": "c32b24d1-0856-4f0b-b03f-bc28dd7e2a15",
   "metadata": {},
   "source": [
    "<center> If $ \\log_{a}(x) = \\log_{a}(y) $ then $x = y$. </center>"
   ]
  },
  {
   "cell_type": "code",
   "execution_count": null,
   "id": "bc0fb984-f9bb-4199-aaee-70a00f0120ae",
   "metadata": {},
   "outputs": [],
   "source": []
  }
 ],
 "metadata": {
  "kernelspec": {
   "display_name": "Python 3 (ipykernel)",
   "language": "python",
   "name": "python3"
  },
  "language_info": {
   "codemirror_mode": {
    "name": "ipython",
    "version": 3
   },
   "file_extension": ".py",
   "mimetype": "text/x-python",
   "name": "python",
   "nbconvert_exporter": "python",
   "pygments_lexer": "ipython3",
   "version": "3.9.9"
  }
 },
 "nbformat": 4,
 "nbformat_minor": 5
}
